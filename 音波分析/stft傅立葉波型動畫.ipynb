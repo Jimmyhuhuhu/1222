{
 "cells": [
  {
   "cell_type": "code",
   "execution_count": null,
   "metadata": {},
   "outputs": [
    {
     "ename": "",
     "evalue": "",
     "output_type": "error",
     "traceback": [
      "\u001b[1;31mThe Kernel crashed while executing code in the current cell or a previous cell. \n",
      "\u001b[1;31mPlease review the code in the cell(s) to identify a possible cause of the failure. \n",
      "\u001b[1;31mClick <a href='https://aka.ms/vscodeJupyterKernelCrash'>here</a> for more info. \n",
      "\u001b[1;31mView Jupyter <a href='command:jupyter.viewOutput'>log</a> for further details."
     ]
    }
   ],
   "source": [
    "import numpy as np\n",
    "import librosa\n",
    "import matplotlib.pyplot as plt\n",
    "\n",
    "target_frequency = (158, 365)  # 包括中央C的頻率範圍\n",
    "filename = r\"C:\\Users\\garyhu\\Desktop\\鋼琴.mp3\"\n",
    "\n",
    "# 載入音頻檔案\n",
    "audio, sr = librosa.load(filename, sr=None)\n",
    "\n",
    "# 執行短時傅立葉變換    \n",
    "stft = np.abs(librosa.stft(audio, hop_length=512, n_fft=2048 * 8))  \n",
    "\n",
    "# 設定震幅的最大值和最小值\n",
    "max_amplitude = np.max(stft)\n",
    "min_amplitude = np.min(stft)\n",
    "\n",
    "# 定義每一幀的長度（以毫秒為單位）\n",
    "frame_duration_ms = 10\n",
    "\n",
    "# 計算總幀數\n",
    "num_frames = stft.shape[1]\n",
    "\n",
    "# 遍歷 stft 的每一幀，將其轉換為影片中的一幀並保存為圖像\n",
    "for i in range(num_frames):  # 使用 stft.shape[1] 作為時間軸的大小\n",
    "    # 縮放震幅到屏幕範圍內\n",
    "    scaled_stft = ((stft[:, i] - min_amplitude) / (max_amplitude - min_amplitude)) * (600 - 100) + 50\n",
    "    \n",
    "    # 使用 Matplotlib 绘制图像并保存为文件\n",
    "    plt.figure(figsize=(8, 6))\n",
    "    plt.plot(scaled_stft, color='red')\n",
    "    plt.ylim(0, 600)\n",
    "    plt.title(f\"Frame {i}\")\n",
    "    plt.savefig(f\"C:\\\\Users\\\\garyhu\\\\Desktop\\\\frame_{i:04d}.png\")\n",
    "    plt.close()\n",
    "    \n",
    "    # 控制幀率\n",
    "    plt.pause(frame_duration_ms / 1000)\n",
    "\n",
    "\n",
    "\n"
   ]
  }
 ],
 "metadata": {
  "kernelspec": {
   "display_name": "Python 3",
   "language": "python",
   "name": "python3"
  },
  "language_info": {
   "codemirror_mode": {
    "name": "ipython",
    "version": 3
   },
   "file_extension": ".py",
   "mimetype": "text/x-python",
   "name": "python",
   "nbconvert_exporter": "python",
   "pygments_lexer": "ipython3",
   "version": "3.12.3"
  }
 },
 "nbformat": 4,
 "nbformat_minor": 2
}
