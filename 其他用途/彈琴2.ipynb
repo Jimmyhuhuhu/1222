{
 "cells": [
  {
   "cell_type": "code",
   "execution_count": 1,
   "metadata": {},
   "outputs": [],
   "source": [
    "import pyautogui\n",
    "import time\n",
    "\n",
    "# 定義音符對應的鍵盤按鍵\n",
    "notes = {\n",
    "    'C1': 'z',\n",
    "    'D1': 'x',\n",
    "    'E1': 'c',\n",
    "    'F1': 'v',\n",
    "    'G1': 'b',\n",
    "    'A1': 'n',\n",
    "    'B1': 'm',\n",
    "    'C2': 'a',\n",
    "    'D2': 's',\n",
    "    'E2': 'd',\n",
    "    'F2': 'f',\n",
    "    'G2': 'g',\n",
    "    'A2': 'h',\n",
    "    'B2': 'j',\n",
    "    'C3': 'q',\n",
    "    'D3': 'w',\n",
    "    'E3': 'e',\n",
    "    'F3': 'r',\n",
    "    'G3': 't',\n",
    "    'A3': 'y',\n",
    "    'B3': 'u'\n",
    "}\n",
    "\n",
    "# 歡樂頌的簡譜\n",
    "ode_to_joy = [\n",
    "    'E2', 'E2', 'F2', 'G2', 'G2', 'F2', 'E2', 'D2', 'C2', 'C2', 'D2', 'E2', 'E2', 'D2', 'D2',\n",
    "    'E2', 'E2', 'F2', 'G2', 'G2', 'F2', 'E2', 'D2', 'C2', 'C2', 'D2', 'E2', 'D2', 'C2', 'C2',\n",
    "    'D2', 'D2', 'E2', 'C2', 'D2', 'E2', 'F2', 'E2', 'C2', 'D2', 'E2', 'F2', 'E2', 'D2', 'C2', 'D2',\n",
    "    'G2', 'G2', 'F2', 'E2', 'D2', 'C2', 'D2', 'E2', 'D2', 'C2', 'C2'\n",
    "]\n",
    "\n",
    "# 模擬按鍵的間隔時間（秒）\n",
    "note_delay = 0.4\n",
    "\n",
    "# 播放歡樂頌\n",
    "for note in ode_to_joy:\n",
    "    pyautogui.press(notes[note])\n",
    "    time.sleep(note_delay)\n"
   ]
  }
 ],
 "metadata": {
  "kernelspec": {
   "display_name": "Python 3",
   "language": "python",
   "name": "python3"
  },
  "language_info": {
   "codemirror_mode": {
    "name": "ipython",
    "version": 3
   },
   "file_extension": ".py",
   "mimetype": "text/x-python",
   "name": "python",
   "nbconvert_exporter": "python",
   "pygments_lexer": "ipython3",
   "version": "3.12.4"
  }
 },
 "nbformat": 4,
 "nbformat_minor": 2
}
