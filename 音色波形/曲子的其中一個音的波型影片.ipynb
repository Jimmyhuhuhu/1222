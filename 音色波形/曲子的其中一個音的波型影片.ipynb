{
 "cells": [
  {
   "cell_type": "code",
   "execution_count": 1,
   "metadata": {},
   "outputs": [
    {
     "name": "stdout",
     "output_type": "stream",
     "text": [
      "pygame 2.5.2 (SDL 2.28.3, Python 3.12.2)\n",
      "Hello from the pygame community. https://www.pygame.org/contribute.html\n"
     ]
    },
    {
     "data": {
      "text/plain": [
       "1"
      ]
     },
     "execution_count": 1,
     "metadata": {},
     "output_type": "execute_result"
    }
   ],
   "source": [
    "import numpy as np\n",
    "import librosa\n",
    "import pygame\n",
    "from pygame.locals import *\n",
    "import os\n",
    "\n",
    "def clamp(min_value, max_value, value):\n",
    "    return max(min(value, max_value), min_value)\n",
    "\n",
    "target_frequency = (158, 365)  # 包括中央C的頻率範圍\n",
    "filename = r\"C:\\Users\\garyhu\\Desktop\\鋼琴.mp3\"\n",
    "output_dir = 'frames'  # 保存帧的目录\n",
    "\n",
    "# 创建保存帧的目录\n",
    "if not os.path.exists(output_dir):\n",
    "    os.makedirs(output_dir)\n",
    "\n",
    "# 載入音頻檔案\n",
    "audio, sr = librosa.load(filename, sr=None)\n",
    "\n",
    "# 執行短時傅立葉變換    \n",
    "stft = np.abs(librosa.stft(audio, hop_length=512, n_fft=2048 * 8))  \n",
    "\n",
    "# 初始化 pygame\n",
    "pygame.init()\n",
    "\n",
    "# 設置視窗大小\n",
    "screen_width = 1920\n",
    "screen_height = 1080\n",
    "screen = pygame.display.set_mode((screen_width, screen_height))\n",
    "\n",
    "# 設定震幅的最大值和最小值\n",
    "max_amplitude = np.max(stft)\n",
    "min_amplitude = np.min(stft)\n",
    "\n",
    "# 定義每一幀的長度（以毫秒為單位）\n",
    "frame_duration_ms = 10\n",
    "\n",
    "# 設置時鐘對象\n",
    "clock = pygame.time.Clock()\n",
    "\n",
    "# 設置音頻\n",
    "pygame.mixer.init()\n",
    "pygame.mixer.music.load(filename)\n",
    "\n",
    "# 開始播放音頻\n",
    "pygame.mixer.music.play()\n",
    "\n",
    "# 设置帧率\n",
    "fps = 1000 // frame_duration_ms\n",
    "\n",
    "# 遍歷 stft 的每一幀，將其轉換為影片中的一幀並播放\n",
    "for i in range(stft.shape[1]):  # 使用 stft.shape[1] 作為時間軸的大小\n",
    "    screen.fill((255, 255, 255))  # 清空屏幕，填充為白色\n",
    "\n",
    "    # 縮放震幅到屏幕範圍內\n",
    "    scaled_stft = ((stft[:, i] - min_amplitude) / (max_amplitude - min_amplitude)) * (screen_height - 100) + 50\n",
    "\n",
    "    # 將 stft 的每一列作為一個折線圖顯示在屏幕上\n",
    "    points = [(j * screen_width // len(stft), screen_height - int(scaled_stft[j])) for j in range(stft.shape[0])]  # 構建折線圖的點\n",
    "    pygame.draw.lines(screen, (255, 0, 0), False, points, 4)  # 繪製折線圖\n",
    "\n",
    "    # 保存当前帧\n",
    "    frame_filename = os.path.join(output_dir, f\"frame{i:04d}.png\")\n",
    "    pygame.image.save(screen, frame_filename)\n",
    "\n",
    "    pygame.display.flip()\n",
    "    clock.tick(fps)\n",
    "\n",
    "    # 監聽事件，比如點擊關閉按鈕等\n",
    "    for event in pygame.event.get():\n",
    "        if event.type == QUIT:\n",
    "            pygame.quit()\n",
    "            exit()\n",
    "\n",
    "# 結束 pygame\n",
    "pygame.quit()\n",
    "\n",
    "# 使用 ffmpeg 将帧和音频合成为视频\n",
    "os.system(f\"ffmpeg -y -r {fps} -f image2 -s 1920x1080 -i {output_dir}/frame%04d.png -i {filename} -c:v libx264 -pix_fmt yuv420p movie.mp4\")\n"
   ]
  }
 ],
 "metadata": {
  "kernelspec": {
   "display_name": "Python 3",
   "language": "python",
   "name": "python3"
  },
  "language_info": {
   "codemirror_mode": {
    "name": "ipython",
    "version": 3
   },
   "file_extension": ".py",
   "mimetype": "text/x-python",
   "name": "python",
   "nbconvert_exporter": "python",
   "pygments_lexer": "ipython3",
   "version": "3.12.2"
  }
 },
 "nbformat": 4,
 "nbformat_minor": 2
}
