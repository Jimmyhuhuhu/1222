{
 "cells": [
  {
   "cell_type": "code",
   "execution_count": 9,
   "metadata": {},
   "outputs": [],
   "source": [
    "def clamp(min_value, max_value, value):\n",
    "    if value < min_value:\n",
    "        return min_value\n",
    "    if value > max_value:\n",
    "        return max_value\n",
    "    return value\n",
    "\n",
    "class AudioBar:\n",
    "    def __init__(self, x, y, freq, color, width=50, min_height=10, max_height=1000, min_decibel=-80, max_decibel=0):\n",
    "        self.x, self.y, self.freq = x, y, freq\n",
    "        self.color = color\n",
    "        self.width, self.min_height, self.max_height = width, min_height, max_height\n",
    "        self.height = min_height\n",
    "        self.min_decibel, self.max_decibel = min_decibel, max_decibel\n",
    "        self.__decibel_height_ratio = (self.max_height - self.min_height)/(self.max_decibel - self.min_decibel)\n",
    "\n",
    "\n",
    "    def update(self, dt, decibel):\n",
    "        desired_height = decibel * self.__decibel_height_ratio + self.max_height\n",
    "        speed = (desired_height - self.height)/0.1\n",
    "        self.height += speed * dt\n",
    "        self.height = clamp(self.min_height, self.max_height, self.height)\n",
    "\n",
    "    def render(self, screen):\n",
    "        pygame.draw.rect(screen, self.color, (self.x, self.y + self.max_height - self.height, self.width, self.height))"
   ]
  },
  {
   "cell_type": "code",
   "execution_count": 10,
   "metadata": {},
   "outputs": [
    {
     "name": "stdout",
     "output_type": "stream",
     "text": [
      "Defaulting to user installation because normal site-packages is not writeable\n",
      "Requirement already satisfied: pygame in c:\\users\\garyhu\\appdata\\local\\packages\\pythonsoftwarefoundation.python.3.12_qbz5n2kfra8p0\\localcache\\local-packages\\python312\\site-packages (2.5.2)\n",
      "^C\n"
     ]
    }
   ],
   "source": [
    "! pip install pygame\n",
    "import librosa\n",
    "import numpy as np\n",
    "import pygame\n",
    "\n",
    "\n",
    "filename1 = r\"C:\\Users\\garyhu\\Desktop\\鋼琴.mp3\"\n",
    "\n",
    "time_series1, sample_rate1 = librosa.load(filename1)  # getting information from the file\n",
    "\n",
    "# getting a matrix which contains amplitude values according to frequency and time indexes\n",
    "stft1 = np.abs(librosa.stft(time_series1, hop_length=512, n_fft=2048*4))\n",
    "\n",
    "spectrogram1 = librosa.amplitude_to_db(stft1, ref=np.max)  # converting the matrix to decibel matrix\n",
    "\n",
    "frequencies1 = librosa.core.fft_frequencies(n_fft=2048*4)  # getting an array of frequencies\n",
    "\n",
    "# getting an array of time periodic\n",
    "times1 = librosa.core.frames_to_time(np.arange(spectrogram1.shape[1]), sr=sample_rate1, hop_length=512, n_fft=2048*4)\n",
    "\n",
    "time_index_ratio1 = len(times1)/times1[len(times1) - 1]\n",
    "\n",
    "frequencies_index_ratio1= len(frequencies1)/frequencies1[len(frequencies1)-1]\n",
    "\n",
    "\n",
    "def get_decibel(target_time1, freq1):\n",
    "    return spectrogram1[int(freq1 * frequencies_index_ratio1)][int(target_time1 * time_index_ratio1)]\n",
    "\n"
   ]
  },
  {
   "cell_type": "code",
   "execution_count": 13,
   "metadata": {},
   "outputs": [
    {
     "name": "stdout",
     "output_type": "stream",
     "text": [
      "Defaulting to user installation because normal site-packages is not writeable\n",
      "Requirement already satisfied: pygame in c:\\users\\garyhu\\appdata\\local\\packages\\pythonsoftwarefoundation.python.3.12_qbz5n2kfra8p0\\localcache\\local-packages\\python312\\site-packages (2.5.2)\n"
     ]
    }
   ],
   "source": [
    "! pip install pygame\n",
    "import librosa\n",
    "import numpy as np\n",
    "import pygame\n",
    "\n",
    "\n",
    "filename2 = r\"C:\\Users\\garyhu\\Desktop\\提琴.mp3\"\n",
    "\n",
    "time_series2, sample_rate2 = librosa.load(filename2)  # getting information from the file\n",
    "\n",
    "# getting a matrix which contains amplitude values according to frequency and time indexes\n",
    "stft2 = np.abs(librosa.stft(time_series2, hop_length=512, n_fft=2048*4))\n",
    "\n",
    "spectrogram2 = librosa.amplitude_to_db(stft2, ref=np.max)  # converting the matrix to decibel matrix\n",
    "\n",
    "frequencies2 = librosa.core.fft_frequencies(n_fft=2048*4)  # getting an array of frequencies\n",
    "\n",
    "# getting an array of time periodic\n",
    "times2 = librosa.core.frames_to_time(np.arange(spectrogram2.shape[1]), sr=sample_rate2, hop_length=512, n_fft=2048*4)\n",
    "\n",
    "time_index_ratio2 = len(times2)/times2[len(times2) - 1]\n",
    "\n",
    "frequencies_index_ratio2 = len(frequencies2)/frequencies2[len(frequencies2)-1]\n",
    "\n",
    "\n",
    "def get_decibel2(target_time2, freq2):\n",
    "    return spectrogram2[int(freq2 * frequencies_index_ratio2)][int(target_time2 * time_index_ratio2)]\n",
    "\n"
   ]
  },
  {
   "cell_type": "code",
   "execution_count": 16,
   "metadata": {},
   "outputs": [
    {
     "ename": "IndexError",
     "evalue": "index 168 is out of bounds for axis 0 with size 168",
     "output_type": "error",
     "traceback": [
      "\u001b[1;31m---------------------------------------------------------------------------\u001b[0m",
      "\u001b[1;31mIndexError\u001b[0m                                Traceback (most recent call last)",
      "Cell \u001b[1;32mIn[16], line 49\u001b[0m\n\u001b[0;32m     47\u001b[0m     b\u001b[38;5;241m.\u001b[39mrender(screen)\n\u001b[0;32m     48\u001b[0m \u001b[38;5;28;01mfor\u001b[39;00m b2 \u001b[38;5;129;01min\u001b[39;00m bars2:\n\u001b[1;32m---> 49\u001b[0m     b2\u001b[38;5;241m.\u001b[39mupdate(deltaTime, \u001b[43mget_decibel2\u001b[49m\u001b[43m(\u001b[49m\u001b[43mpygame\u001b[49m\u001b[38;5;241;43m.\u001b[39;49m\u001b[43mmixer\u001b[49m\u001b[38;5;241;43m.\u001b[39;49m\u001b[43mmusic\u001b[49m\u001b[38;5;241;43m.\u001b[39;49m\u001b[43mget_pos\u001b[49m\u001b[43m(\u001b[49m\u001b[43m)\u001b[49m\u001b[38;5;241;43m/\u001b[39;49m\u001b[38;5;241;43m1000.0\u001b[39;49m\u001b[43m,\u001b[49m\u001b[43m \u001b[49m\u001b[43mb\u001b[49m\u001b[38;5;241;43m.\u001b[39;49m\u001b[43mfreq\u001b[49m\u001b[43m)\u001b[49m)\n\u001b[0;32m     50\u001b[0m     b2\u001b[38;5;241m.\u001b[39mrender(screen)\n\u001b[0;32m     52\u001b[0m \u001b[38;5;66;03m# Flip the display\u001b[39;00m\n",
      "Cell \u001b[1;32mIn[13], line 27\u001b[0m, in \u001b[0;36mget_decibel2\u001b[1;34m(target_time2, freq2)\u001b[0m\n\u001b[0;32m     26\u001b[0m \u001b[38;5;28;01mdef\u001b[39;00m \u001b[38;5;21mget_decibel2\u001b[39m(target_time2, freq2):\n\u001b[1;32m---> 27\u001b[0m     \u001b[38;5;28;01mreturn\u001b[39;00m \u001b[43mspectrogram2\u001b[49m\u001b[43m[\u001b[49m\u001b[38;5;28;43mint\u001b[39;49m\u001b[43m(\u001b[49m\u001b[43mfreq2\u001b[49m\u001b[43m \u001b[49m\u001b[38;5;241;43m*\u001b[39;49m\u001b[43m \u001b[49m\u001b[43mfrequencies_index_ratio2\u001b[49m\u001b[43m)\u001b[49m\u001b[43m]\u001b[49m\u001b[43m[\u001b[49m\u001b[38;5;28;43mint\u001b[39;49m\u001b[43m(\u001b[49m\u001b[43mtarget_time2\u001b[49m\u001b[43m \u001b[49m\u001b[38;5;241;43m*\u001b[39;49m\u001b[43m \u001b[49m\u001b[43mtime_index_ratio2\u001b[49m\u001b[43m)\u001b[49m\u001b[43m]\u001b[49m\n",
      "\u001b[1;31mIndexError\u001b[0m: index 168 is out of bounds for axis 0 with size 168"
     ]
    },
    {
     "ename": "",
     "evalue": "",
     "output_type": "error",
     "traceback": [
      "\u001b[1;31mThe Kernel crashed while executing code in the current cell or a previous cell. \n",
      "\u001b[1;31mPlease review the code in the cell(s) to identify a possible cause of the failure. \n",
      "\u001b[1;31mClick <a href='https://aka.ms/vscodeJupyterKernelCrash'>here</a> for more info. \n",
      "\u001b[1;31mView Jupyter <a href='command:jupyter.viewOutput'>log</a> for further details."
     ]
    }
   ],
   "source": [
    "pygame.init()\n",
    "infoObject = pygame.display.Info()\n",
    "\n",
    "screen_w = int(infoObject.current_w/2.5)*2\n",
    "screen_h = int(infoObject.current_w/2.5)\n",
    "\n",
    "\n",
    "frequencies = np.arange(100, 1200, 10)\n",
    "r = len(frequencies)\n",
    "width = screen_w/r\n",
    "x = (screen_w - width*r)/2\n",
    "bars1 = []\n",
    "for c in frequencies:\n",
    "    bars1.append(AudioBar(x, 300, c, (255, 0, 0), max_height=400, width=width))\n",
    "    x += width\n",
    "\n",
    "bars2 = []\n",
    "for c in frequencies:\n",
    "    bars2.append(AudioBar(screen_w/2 +x, 300, c, (255, 0, 0), max_height=400, width=width))\n",
    "    x += width\n",
    "\n",
    "t = pygame.time.get_ticks()\n",
    "getTicksLastFrame = t\n",
    "\n",
    "pygame.mixer.music.load(filename1)\n",
    "pygame.mixer.music.play(0)\n",
    "\n",
    "# Run until the user asks to quit\n",
    "screen = pygame.display.set_mode([screen_w, screen_h])\n",
    "running = True\n",
    "while running:\n",
    "\n",
    "    t = pygame.time.get_ticks()\n",
    "    deltaTime = (t - getTicksLastFrame) / 1000.0\n",
    "    getTicksLastFrame = t\n",
    "\n",
    "    # Did the user click the window close button?\n",
    "    for event in pygame.event.get():\n",
    "        if event.type == pygame.QUIT:\n",
    "            running = False\n",
    "\n",
    "    # Fill the background with white\n",
    "    screen.fill((255, 255, 255))\n",
    "\n",
    "    for b in bars1:\n",
    "        b.update(deltaTime, get_decibel(pygame.mixer.music.get_pos()/1000.0, b.freq))\n",
    "        b.render(screen)\n",
    "    for b2 in bars2:\n",
    "        b2.update(deltaTime, get_decibel2(pygame.mixer.music.get_pos()/1000.0, b.freq))\n",
    "        b2.render(screen)\n",
    "\n",
    "    # Flip the display\n",
    "    pygame.display.flip()\n",
    "\n",
    "# Done! Time to quit.\n",
    "pygame.quit()"
   ]
  }
 ],
 "metadata": {
  "kernelspec": {
   "display_name": "Python 3",
   "language": "python",
   "name": "python3"
  },
  "language_info": {
   "codemirror_mode": {
    "name": "ipython",
    "version": 3
   },
   "file_extension": ".py",
   "mimetype": "text/x-python",
   "name": "python",
   "nbconvert_exporter": "python",
   "pygments_lexer": "ipython3",
   "version": "3.12.3"
  }
 },
 "nbformat": 4,
 "nbformat_minor": 2
}
